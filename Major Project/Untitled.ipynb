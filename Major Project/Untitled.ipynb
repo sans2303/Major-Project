{
 "cells": [
  {
   "cell_type": "code",
   "execution_count": 5,
   "id": "9858027c",
   "metadata": {},
   "outputs": [
    {
     "name": "stdout",
     "output_type": "stream",
     "text": [
      "Renamed 512 images in the pothole folder.\n"
     ]
    }
   ],
   "source": [
    "import os\n",
    "\n",
    "# Define the class name and folder path\n",
    "class_name = \"pothole\"\n",
    "folder_path = r\"C:\\Users\\Sanskruti\\Desktop\\Major Project\\My_Dataset\\test\\Pothole\"\n",
    "\n",
    "\n",
    "# Get all filenames in the folder\n",
    "filenames = os.listdir(folder_path)\n",
    "\n",
    "# Counter for image numbers\n",
    "counter = 1\n",
    "\n",
    "# Loop through each filename\n",
    "for filename in filenames:\n",
    "  # Extract the original filename and extension\n",
    "  name, ext = os.path.splitext(filename)\n",
    "\n",
    "  # Create the new filename with class prefix and counter\n",
    "  new_name = f\"{class_name}-{counter:03d}{ext}\"\n",
    "\n",
    "  # Rename the file\n",
    "  os.rename(os.path.join(folder_path, filename), os.path.join(folder_path, new_name))\n",
    "\n",
    "  # Increment counter\n",
    "  counter += 1\n",
    "\n",
    "print(f\"Renamed {counter - 1} images in the {class_name} folder.\")\n"
   ]
  },
  {
   "cell_type": "code",
   "execution_count": null,
   "id": "01410325",
   "metadata": {},
   "outputs": [],
   "source": []
  }
 ],
 "metadata": {
  "kernelspec": {
   "display_name": "Python 3 (ipykernel)",
   "language": "python",
   "name": "python3"
  },
  "language_info": {
   "codemirror_mode": {
    "name": "ipython",
    "version": 3
   },
   "file_extension": ".py",
   "mimetype": "text/x-python",
   "name": "python",
   "nbconvert_exporter": "python",
   "pygments_lexer": "ipython3",
   "version": "3.9.13"
  }
 },
 "nbformat": 4,
 "nbformat_minor": 5
}
